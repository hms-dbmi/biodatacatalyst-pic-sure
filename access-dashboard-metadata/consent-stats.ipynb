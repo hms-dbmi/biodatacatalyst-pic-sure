{
 "cells": [
  {
   "cell_type": "code",
   "execution_count": null,
   "metadata": {},
   "outputs": [],
   "source": [
    "!cat requirements.txt"
   ]
  },
  {
   "cell_type": "code",
   "execution_count": null,
   "metadata": {},
   "outputs": [],
   "source": [
    "import sys\n",
    "!{sys.executable} -m pip install -r requirements.txt"
   ]
  },
  {
   "cell_type": "code",
   "execution_count": null,
   "metadata": {},
   "outputs": [],
   "source": [
    "!{sys.executable} -m pip install --upgrade --force-reinstall git+https://github.com/hms-dbmi/pic-sure-python-adapter-hpds.git\n",
    "!{sys.executable} -m pip install --upgrade --force-reinstall git+https://github.com/hms-dbmi/pic-sure-python-client.git"
   ]
  },
  {
   "cell_type": "code",
   "execution_count": null,
   "metadata": {},
   "outputs": [],
   "source": [
    "PICSURE_network_URL = \"https://biodatacatalyst.integration.hms.harvard.edu/picsure\"\n",
    "resource_id = \"02e23f52-f354-4e8b-992c-d37c8b9ba140\"\n",
    "token_file = \"token.txt\""
   ]
  },
  {
   "cell_type": "code",
   "execution_count": null,
   "metadata": {},
   "outputs": [],
   "source": [
    "with open(token_file, \"r\") as f:\n",
    "    my_token = f.read()"
   ]
  },
  {
   "cell_type": "code",
   "execution_count": null,
   "metadata": {},
   "outputs": [],
   "source": [
    "import json\n",
    "from pprint import pprint\n",
    "\n",
    "import pandas as pd\n",
    "import numpy as np \n",
    "import matplotlib.pyplot as plt\n",
    "from scipy import stats\n",
    "\n",
    "import PicSureHpdsLib\n",
    "import PicSureClient\n",
    "\n",
    "from python_lib.utils import get_multiIndex_variablesDict, joining_variablesDict_onCol"
   ]
  },
  {
   "cell_type": "code",
   "execution_count": null,
   "metadata": {},
   "outputs": [],
   "source": [
    "client = PicSureClient.Client()\n",
    "connection = client.connect(PICSURE_network_URL, my_token, True)\n",
    "adapter = PicSureHpdsLib.Adapter(connection)\n",
    "resource = adapter.useResource(resource_id)"
   ]
  },
  {
   "cell_type": "code",
   "execution_count": null,
   "metadata": {},
   "outputs": [],
   "source": [
    "dictionary = resource.dictionary()\n",
    "dictionary_search = dictionary.find(\"\\\\_consents\\\\\").DataFrame()\n",
    "consentGroups = dictionary_search[\"categoryValues\"][\"\\\\_consents\\\\\"]\n",
    "consentGroups"
   ]
  },
  {
   "cell_type": "code",
   "execution_count": null,
   "metadata": {},
   "outputs": [],
   "source": [
    "import time\n",
    "\n",
    "my_query = resource.query()\n",
    "my_query.filter().delete(\"\\\\_topmed_consents\\\\\")\n",
    "my_query.filter().delete(\"\\\\_harmonized_consent\\\\\")\n",
    "dictionary = resource.dictionary()\n",
    "output = []\n",
    "batchSize = 1000\n",
    "badConcepts = []\n",
    "for consentGroup in consentGroups:\n",
    "    if \".c0\" not in consentGroup:\n",
    "        print(consentGroup)\n",
    "        consentGroupConcepts = dictionary.find(consentGroup.split(\".\")[0]).DataFrame()\n",
    "        conceptsWithCounts = 0\n",
    "        for i in range(0, len(consentGroupConcepts.index.values), batchSize):  \n",
    "            my_query.crosscounts().clear()\n",
    "            my_query.crosscounts().add(consentGroupConcepts.index.values[i:i + batchSize])\n",
    "            my_query.filter().delete(\"\\\\_consents\\\\\")\n",
    "            my_query.filter().add(\"\\\\_consents\\\\\", consentGroup)\n",
    "            try:                \n",
    "                cross_counts = my_query.getCrossCounts()\n",
    "                cross_counts_list = [(k, v) for k, v in cross_counts.items() if v > 0] \n",
    "                cross_counts_empty = [(k, v) for k, v in cross_counts.items() if v == 0] \n",
    "                print(i)\n",
    "                print(len(cross_counts_list))\n",
    "                conceptsWithCounts += len(cross_counts_list)\n",
    "            except:\n",
    "                print(\"Retrying\")\n",
    "                time.sleep(5)\n",
    "                badConcepts.extend(consentGroupConcepts.index.values[i:i + batchSize])\n",
    "                cross_counts = my_query.getCrossCounts()\n",
    "                cross_counts_list = [(k, v) for k, v in cross_counts.items() if v > 0] \n",
    "                cross_counts_empty = [(k, v) for k, v in cross_counts.items() if v == 0] \n",
    "                print(\"RETRY SUCCESS\")\n",
    "                print(i)\n",
    "                print(len(cross_counts_list))\n",
    "                conceptsWithCounts += len(cross_counts_list)\n",
    "                pass\n",
    "        output.append(consentGroup + \",\" + str(conceptsWithCounts))"
   ]
  },
  {
   "cell_type": "code",
   "execution_count": null,
   "metadata": {},
   "outputs": [],
   "source": [
    "for line in output:\n",
    "    print(line)"
   ]
  },
  {
   "cell_type": "code",
   "execution_count": null,
   "metadata": {},
   "outputs": [],
   "source": []
  },
  {
   "cell_type": "code",
   "execution_count": null,
   "metadata": {},
   "outputs": [],
   "source": [
    "my_query = resource.query()\n",
    "my_query.filter().delete(\"\\\\_topmed_consents\\\\\")\n",
    "my_query.filter().delete(\"\\\\_harmonized_consent\\\\\")\n",
    "dictionary = resource.dictionary()\n",
    "output = []\n",
    "batchSize = 100\n",
    "badConcepts = []\n",
    "for consentGroup in consentGroups:\n",
    "    if \".c0\" not in consentGroup:\n",
    "        print(consentGroup)\n",
    "        my_query.filter().delete(\"\\\\_consents\\\\\")\n",
    "        my_query.filter().add(\"\\\\_consents\\\\\", consentGroup)\n",
    "        patient_count = my_query.getCount()\n",
    "        print(patient_count)\n",
    "        output.append(consentGroup + \",\" + str(patient_count))"
   ]
  },
  {
   "cell_type": "code",
   "execution_count": null,
   "metadata": {},
   "outputs": [],
   "source": [
    "for line in output:\n",
    "    print(line)"
   ]
  },
  {
   "cell_type": "code",
   "execution_count": null,
   "metadata": {},
   "outputs": [],
   "source": []
  }
 ],
 "metadata": {
  "kernelspec": {
   "display_name": "Python 3",
   "language": "python",
   "name": "python3"
  },
  "language_info": {
   "codemirror_mode": {
    "name": "ipython",
    "version": 3
   },
   "file_extension": ".py",
   "mimetype": "text/x-python",
   "name": "python",
   "nbconvert_exporter": "python",
   "pygments_lexer": "ipython3",
   "version": "3.9.0"
  }
 },
 "nbformat": 4,
 "nbformat_minor": 2
}
